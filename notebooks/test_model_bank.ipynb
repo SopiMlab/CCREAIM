{
 "cells": [
  {
   "cell_type": "code",
   "execution_count": 1,
   "metadata": {},
   "outputs": [],
   "source": [
    "import sys\n",
    "sys.path.append(\"..\")\n",
    "import torch\n",
    "import torch.nn.functional as F\n",
    "from omegaconf import OmegaConf\n",
    "from ccreaim.model import operate, ae\n",
    "from ccreaim.utils import dataset, cfg_classes, audio_tools, util"
   ]
  },
  {
   "cell_type": "code",
   "execution_count": 2,
   "metadata": {},
   "outputs": [],
   "source": [
    "data_tar = \"/scratch/other/sopi/CCREAIM/datasets/maestro_bank_data.tar\"\n",
    "\n",
    "load_trf_path = \"\"\n",
    "\n",
    "context_length = 8"
   ]
  },
  {
   "cell_type": "code",
   "execution_count": null,
   "metadata": {},
   "outputs": [],
   "source": [
    "# Load transformer \n",
    "\n",
    "trf_checkpoint = torch.load(load_trf_path, map_location=\"cpu\")\n",
    "trf_state_dict = trf_checkpoint[\"model_state_dict\"]\n",
    "hyper_cfg_schema = OmegaConf.structured(cfg_classes.HyperConfig)\n",
    "trf_conf = OmegaConf.create(trf_checkpoint[\"hyper_config\"])\n",
    "trf_hyper_cfg = OmegaConf.merge(hyper_cfg_schema, trf_conf)\n",
    "get_trf = operate.get_model_init_function(trf_hyper_cfg)\n",
    "trf = get_trf()\n",
    "trf.load_state_dict(trf_state_dict)\n",
    "trf = trf.to(device)"
   ]
  },
  {
   "cell_type": "code",
   "execution_count": null,
   "metadata": {},
   "outputs": [],
   "source": [
    "# Prepare datasets\n",
    "tmp_data_root = dataset.prepare_dataset_on_tmp(data_tar)\n",
    "data = dataset.BankTransformerDataset(tmp_data_root)\n",
    "bank = dataset.Bank(tmp_data_root, context_length)"
   ]
  },
  {
   "cell_type": "code",
   "execution_count": null,
   "metadata": {},
   "outputs": [],
   "source": []
  }
 ],
 "metadata": {
  "kernelspec": {
   "display_name": "CCREAIM_conda",
   "language": "python",
   "name": "ccreaim"
  },
  "language_info": {
   "codemirror_mode": {
    "name": "ipython",
    "version": 3
   },
   "file_extension": ".py",
   "mimetype": "text/x-python",
   "name": "python",
   "nbconvert_exporter": "python",
   "pygments_lexer": "ipython3",
   "version": "3.9.13"
  }
 },
 "nbformat": 4,
 "nbformat_minor": 4
}
