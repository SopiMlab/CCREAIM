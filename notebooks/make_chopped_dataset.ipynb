{
 "cells": [
  {
   "cell_type": "code",
   "execution_count": 5,
   "metadata": {},
   "outputs": [
    {
     "name": "stderr",
     "output_type": "stream",
     "text": [
      "Could not open file, with error: Failed to load audio from /scratch/other/sopi/CCREAIM/datasets/test/in/american_bach_soloists-j_s__bach__cantatas_volume_v-01-gleichwie_der_regen_und_schnee_vom_himmel_fallt_bwv_18_i_sinfonia-0-29.mp3\n",
      "Could not open file, with error: Failed to load audio from /scratch/other/sopi/CCREAIM/datasets/test/in/american_bach_soloists-j_s__bach__cantatas_volume_v-01-gleichwie_der_regen_und_schnee_vom_himmel_fallt_bwv_18_i_sinfonia-117-146.mp3\n"
     ]
    }
   ],
   "source": [
    "import sys\n",
    "sys.path.append(\"..\")\n",
    "from ccreaim.utils import util\n",
    "from pathlib import Path\n",
    "\n",
    "test_dataset = True\n",
    "sample_length = 4096\n",
    "ext = \"mp3\"\n",
    "\n",
    "input_root = \"/scratch/other/sopi/CCREAIM/datasets/test/in\" if test_dataset else \"/scratch/other/sopi/CCREAIM/datasets/magna-tag-a-tune\"\n",
    "output_root = \"/scratch/other/sopi/CCREAIM/datasets/test/out\" if test_dataset else \"/scratch/other/sopi/CCREAIM/datasets\"\n",
    "\n",
    "util.chop_dataset(Path(input_root), Path(output_root, f\"chopped_{sample_length}.tar\"), ext, sample_length)"
   ]
  },
  {
   "cell_type": "code",
   "execution_count": null,
   "metadata": {},
   "outputs": [],
   "source": []
  }
 ],
 "metadata": {
  "kernelspec": {
   "display_name": "CCREAIM_conda",
   "language": "python",
   "name": "ccreaim"
  },
  "language_info": {
   "codemirror_mode": {
    "name": "ipython",
    "version": 3
   },
   "file_extension": ".py",
   "mimetype": "text/x-python",
   "name": "python",
   "nbconvert_exporter": "python",
   "pygments_lexer": "ipython3",
   "version": "3.9.13"
  }
 },
 "nbformat": 4,
 "nbformat_minor": 4
}
